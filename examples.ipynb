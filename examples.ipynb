{
 "cells": [
  {
   "cell_type": "markdown",
   "metadata": {},
   "source": [
    "# Exemples\n",
    "\n",
    "## Exemple simple (une équipe, que des courses/modes de jeux \"score\")\n",
    "\n",
    "Il faut garder en tête qu'actuellement les performances sur les relais ne sont pas du tout prises en compte."
   ]
  },
  {
   "cell_type": "code",
   "execution_count": null,
   "metadata": {},
   "outputs": [],
   "source": [
    "from src.player import Player, PlayerId, Score, Chrono\n",
    "from src.game_mode_id import GameModeId\n",
    "from src.game_mode import ScoreMode, SwimLikeRelayMode\n",
    "from src.competition import Competition\n",
    "from src.solve import best_team"
   ]
  },
  {
   "cell_type": "markdown",
   "metadata": {},
   "source": [
    "#### On crée les joueurs/nageurs :"
   ]
  },
  {
   "cell_type": "code",
   "execution_count": null,
   "metadata": {},
   "outputs": [],
   "source": [
    "florent = Player(PlayerId(\"Florent\"))\n",
    "laure = Player(PlayerId(fst_name=\"Laure\", last_name=\"Manaudou\"))\n",
    "thon_1 = Player(\n",
    "    PlayerId(\n",
    "        fst_name=\"Thon\",\n",
    "        last_name=\"Rouge\",\n",
    "        distinction=\"nageoires asymetriques\",\n",
    "    ),\n",
    ")\n",
    "thon_2 = Player(\n",
    "    PlayerId(\n",
    "        fst_name=\"Thon\",\n",
    "        last_name=\"Rouge\",\n",
    "        distinction=\"tres fat\",\n",
    "    ),\n",
    ")\n",
    "\n",
    "club = [florent, laure, thon_1, thon_2]\n",
    "\n",
    "print(\n",
    "    \", \".join(\n",
    "        map(lambda player: str(player.name), club),\n",
    "    ),\n",
    ")"
   ]
  },
  {
   "cell_type": "markdown",
   "metadata": {},
   "source": [
    "#### On crée les courses/jeux et la compétition :"
   ]
  },
  {
   "cell_type": "code",
   "execution_count": null,
   "metadata": {},
   "outputs": [],
   "source": [
    "crawl_50_women = GameModeId(name=\"50m crawl\", distinction=\"individuel dames\")\n",
    "crawl_50_men = GameModeId(name=\"50m crawl\", distinction=\"individuel messieurs\")\n",
    "brasse_50_women = GameModeId(name=\"50m brasse\", distinction=\"individuel dames\")\n",
    "brasse_50_men = GameModeId(name=\"50m brasse\", distinction=\"individuel messieurs\")\n",
    "\n",
    "crawl_relay = GameModeId(name=\"50m crawl\", distinction=\"morceau de relais\")\n",
    "brasse_relay = GameModeId(name=\"50m brasse\", distinction=\"morceau de relais\")\n",
    "butterfly_relay = GameModeId(name=\"50m pap\", distinction=\"morceau de relais\")\n",
    "relay = GameModeId(name=\"50m crawl + 50m brasse + 50m pap\", distinction=\"relais\")\n",
    "\n",
    "in_the_sea = GameModeId(name=\"Nager dans la mer\")\n",
    "turbulent_sea = GameModeId(name=\"Nager dans la mer\", distinction=\"mer agitee\")\n",
    "\n",
    "full_relay = SwimLikeRelayMode(\n",
    "    name=relay,\n",
    "    atomic_modes=[crawl_relay, brasse_relay, butterfly_relay],\n",
    "    age_chrono_points=lambda age, chrono: 42,\n",
    ")\n",
    "\n",
    "compet = Competition(\n",
    "    game_modes=[\n",
    "        ScoreMode(crawl_50_men),\n",
    "        ScoreMode(crawl_50_women),\n",
    "        ScoreMode(turbulent_sea),\n",
    "        full_relay,\n",
    "    ],\n",
    "    nb_players=3,\n",
    ")"
   ]
  },
  {
   "cell_type": "markdown",
   "metadata": {},
   "source": [
    "#### On donne les perfs des différents joueurs/nageurs :"
   ]
  },
  {
   "cell_type": "code",
   "execution_count": null,
   "metadata": {},
   "outputs": [],
   "source": [
    "florent.perf_at[crawl_50_men] = Score(1300)\n",
    "florent.perf_at[brasse_50_men] = Score(800)\n",
    "florent.perf_at[crawl_relay] = Chrono(23.5)\n",
    "florent.perf_at[brasse_relay] = Chrono(31)\n",
    "florent.perf_at[butterfly_relay] = Chrono(25)\n",
    "florent.perf_at[in_the_sea] = Score(400)\n",
    "florent.perf_at[turbulent_sea] = Score(150)\n",
    "\n",
    "laure.perf_at[crawl_50_women] = Score(1200)\n",
    "laure.perf_at[brasse_50_women] = Score(900)\n",
    "laure.perf_at[crawl_relay] = Chrono(24.5)\n",
    "laure.perf_at[brasse_relay] = Chrono(30)\n",
    "laure.perf_at[butterfly_relay] = Chrono(23)\n",
    "laure.perf_at[in_the_sea] = Score(400)\n",
    "laure.perf_at[turbulent_sea] = Score(150)\n",
    "\n",
    "thon_1.perf_at[crawl_50_men] = thon_1.perf_at[crawl_50_women] = Score(100)\n",
    "thon_1.perf_at[brasse_50_men] = thon_1.perf_at[brasse_50_women] = Score(50)\n",
    "thon_1.perf_at[crawl_relay] = Score(100)\n",
    "thon_1.perf_at[brasse_relay] = Score(50)\n",
    "thon_1.perf_at[butterfly_relay] = Score(0)\n",
    "thon_1.perf_at[in_the_sea] = Score(1500)\n",
    "thon_1.perf_at[turbulent_sea] = Score(1350)\n",
    "\n",
    "thon_2.perf_at[crawl_50_men] = thon_2.perf_at[crawl_50_women] = Score(50)\n",
    "thon_2.perf_at[brasse_50_men] = thon_2.perf_at[brasse_50_women] = Score(100)\n",
    "thon_2.perf_at[crawl_relay] = Score(50)\n",
    "thon_2.perf_at[brasse_relay] = Score(100)\n",
    "thon_2.perf_at[butterfly_relay] = Score(0)\n",
    "thon_2.perf_at[in_the_sea] = Score(1500)\n",
    "thon_2.perf_at[turbulent_sea] = Score(1350)"
   ]
  },
  {
   "cell_type": "markdown",
   "metadata": {},
   "source": [
    "#### On trouve la dream team :"
   ]
  },
  {
   "cell_type": "code",
   "execution_count": null,
   "metadata": {},
   "outputs": [],
   "source": [
    "dream_team = best_team(club=club, competition=compet)\n",
    "print(\n",
    "    \"\\n\".join(f\"{str(mode)} : {str(player)}\" for mode, player in dream_team.items()),\n",
    ")"
   ]
  }
 ],
 "metadata": {
  "kernelspec": {
   "display_name": "TeamBuilder-3.11.2",
   "language": "python",
   "name": "python3"
  },
  "language_info": {
   "codemirror_mode": {
    "name": "ipython",
    "version": 3
   },
   "file_extension": ".py",
   "mimetype": "text/x-python",
   "name": "python",
   "nbconvert_exporter": "python",
   "pygments_lexer": "ipython3",
   "version": "3.11.2"
  }
 },
 "nbformat": 4,
 "nbformat_minor": 2
}
